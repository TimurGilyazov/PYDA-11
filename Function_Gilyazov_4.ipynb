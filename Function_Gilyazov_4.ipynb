{
 "cells": [
  {
   "cell_type": "markdown",
   "metadata": {},
   "source": [
    "Вы работаете секретарем и вам постоянно приходят различные документы. Вы должны быть очень внимательны, чтобы не потерять ни один документ. Каталог документов хранится в следующем виде:"
   ]
  },
  {
   "cell_type": "code",
   "execution_count": 30,
   "metadata": {},
   "outputs": [],
   "source": [
    "documents = [\n",
    "    {'type': 'passport', 'number': '2207 876234', 'name': 'Василий Гупкин'},\n",
    "    {'type': 'invoice', 'number': '11-2', 'name': 'Геннадий Покемонов'},\n",
    "    {'type': 'insurance', 'number': '10006', 'name': 'Аристарх Павлов'}\n",
    "]"
   ]
  },
  {
   "cell_type": "markdown",
   "metadata": {},
   "source": [
    "Перечень полок, на которых находятся документы хранится в следующем виде:"
   ]
  },
  {
   "cell_type": "code",
   "execution_count": 31,
   "metadata": {},
   "outputs": [],
   "source": [
    "directories = {\n",
    "    '1': ['2207 876234', '11-2'],\n",
    "    '2': ['10006'],\n",
    "    '3': []\n",
    "}"
   ]
  },
  {
   "cell_type": "code",
   "execution_count": 32,
   "metadata": {},
   "outputs": [],
   "source": [
    "#функция возвращает имя человека по номеру документа. команда p\n",
    "def name_by_number(input_number):\n",
    "    for line in documents:\n",
    "        if line['number'] == input_number:\n",
    "            print(line['name'])\n",
    "            return \n",
    "    print('Not found')\n",
    "    return\n",
    "                  \n",
    "\n",
    "#функция возвращает номер полки, на которой лежит документ с нужным номером/ команда s\n",
    "def shelf_by_number(input_number):\n",
    "    for key, value in directories.items():\n",
    "        for number in value:\n",
    "            if number == input_number:\n",
    "                print(key)\n",
    "                return\n",
    "    print('Not  found')\n",
    "    return 'Not found'\n",
    "\n",
    "#список всех документов по форме тип документа, номер, имя. команда l\n",
    "def list_of_docs():\n",
    "    for line in documents:\n",
    "        print(line['type'], line['number'], line['name'])\n",
    "    return\n",
    "\n",
    "#добавление новой полки. команда as\n",
    "def add_new_shelf(new_shelf):\n",
    "    for key in directories.keys():\n",
    "        if new_shelf == key:\n",
    "            print('Полка с таким номером уже существует')\n",
    "            return\n",
    "    directories [new_shelf] = []\n",
    "    print(directories)\n",
    "    return  \n",
    "\n",
    "#удаление документа из каталога и перечня полок. команда d\n",
    "def del_by_number(input_number): \n",
    "    for line in documents:\n",
    "        if line['number'] == input_number:\n",
    "            documents.remove(line)\n",
    "    for key, value in directories.items():\n",
    "        if value.count(input_number) != 0:\n",
    "            directories[key].remove(input_number)\n",
    "            print(documents, directories)\n",
    "            return\n",
    "    print('Not found')\n",
    "    return \n",
    "    \n",
    "#по номеру документа переносим документ с текущей полки на заданную полку. команда m\n",
    "def move_by_number(input_number, input_shelf):  \n",
    "    present_shelf = shelf_by_number(input_number)\n",
    "    if present_shelf == 'Not found':\n",
    "        print ('Doc number not found')\n",
    "        return\n",
    "    if input_shelf not in directories:\n",
    "        print ('Shelf not found')\n",
    "        return\n",
    "    for key, value in directories.items():\n",
    "        if value.count(input_number) != 0:\n",
    "            directories[key].remove(input_number)    \n",
    "        if key.count(input_shelf) != 0:\n",
    "            directories[key].append(input_number)\n",
    "    print(directories)\n",
    "    return\n",
    "    \n",
    "#добавить новый документ. команда a\n",
    "def add_new_doc(input_type, input_number, input_name, input_shelf):\n",
    "    documents.append({'type': input_type, 'number': input_number, 'name': input_name})\n",
    "    if input_shelf not in directories:\n",
    "        print ('Shelf not found')\n",
    "        return\n",
    "    directories[input_shelf].append(input_number)\n",
    "    print(documents, directories)\n",
    "\n",
    "#запрос команд\n",
    "def master_secretary ():\n",
    "    usertask = input('Введите команду: ')\n",
    "    if usertask == 'p':\n",
    "        input_number = input('Введите номер документа: ')\n",
    "        name_by_number(input_number)\n",
    "    elif usertask == 's':\n",
    "        input_number = input('Введите номер документа: ')\n",
    "        shelf_by_number(input_number)\n",
    "    elif usertask == 'l':\n",
    "        list_of_docs()\n",
    "    elif usertask == 'as':\n",
    "        new_shelf = input('Введите номер новой полки: ')\n",
    "        add_new_shelf(new_shelf)\n",
    "    elif usertask == 'd':\n",
    "        input_number = input('Введите номер документа: ')\n",
    "        del_by_number(input_number)\n",
    "    elif usertask == 'm':\n",
    "        input_number = input('Введите номер документа: ')\n",
    "        input_shelf = input('Введите номер целевой полки: ')\n",
    "        move_by_number(input_number, input_shelf)\n",
    "    elif usertask == 'a':\n",
    "        input_type = input('Введите тип документа: ')\n",
    "        input_number = input('Введите номер документа: ')\n",
    "        input_name = input('Введите имя человек: ')\n",
    "        input_shelf = input('Введите номер полки: ')\n",
    "        add_new_doc(input_type, input_number, input_name, input_shelf)\n",
    "    else:\n",
    "        print('Некорректная команда')\n",
    "    return"
   ]
  },
  {
   "cell_type": "code",
   "execution_count": null,
   "metadata": {},
   "outputs": [],
   "source": []
  },
  {
   "cell_type": "code",
   "execution_count": 33,
   "metadata": {},
   "outputs": [
    {
     "name": "stdout",
     "output_type": "stream",
     "text": [
      "Введите команду: l\n",
      "passport 2207 876234 Василий Гупкин\n",
      "invoice 11-2 Геннадий Покемонов\n",
      "insurance 10006 Аристарх Павлов\n"
     ]
    }
   ],
   "source": [
    "master_secretary()"
   ]
  },
  {
   "cell_type": "code",
   "execution_count": 25,
   "metadata": {},
   "outputs": [
    {
     "name": "stdout",
     "output_type": "stream",
     "text": [
      "[{'type': 'passport', 'number': '2207 876234', 'name': 'Василий Гупкин'}, {'type': 'invoice', 'number': '11-2', 'name': 'Геннадий Покемонов'}, {'type': 'insurance', 'number': '10006', 'name': 'Аристарх Павлов'}] {'1': ['2207 876234', '11-2'], '2': ['10006'], '3': []}\n"
     ]
    }
   ],
   "source": [
    "print(documents, directories)"
   ]
  },
  {
   "cell_type": "markdown",
   "metadata": {},
   "source": [
    "Необходимо реализовать пользовательские команды (внимание! это не название функций, которые должны быть выразительными, а команды, которые вводит пользователь, чтобы получить необходимый результат):\n",
    "  \n",
    "- p – people – команда, которая спросит номер документа и выведет имя человека, которому он принадлежит;  \n",
    "- s – shelf – команда, которая спросит номер документа и выведет номер полки, на которой он находится  \n",
    "*Правильно обработайте ситуации, когда пользователь будет вводить несуществующий документ*.\n",
    "- l – list – команда, которая выведет список всех документов в формате   \n",
    "**passport \"2207 876234\" \"Василий Гупкин\"**  \n",
    "- as – add shelf – команда, которая спросит номер новой полки и добавит ее в перечень. *Предусмотрите случай, когда пользователь добавляет полку, которая уже существует*.\n",
    "- d – delete – команда, которая спросит номер документа и удалит его из каталога и из перечня полок. *Предусмотрите сценарий, когда пользователь вводит несуществующий документ*;  \n",
    "- m – move – команда, которая спросит номер документа и целевую полку и переместит его с текущей полки на целевую. *Корректно обработайте кейсы, когда пользователь пытается переместить несуществующий документ или переместить документ на несуществующую полку*;  \n",
    "- a – add – команда, которая добавит новый документ в каталог и в перечень полок, спросив его номер, тип, имя владельца и номер полки, на котором он будет храниться. *Корректно обработайте ситуацию, когда пользователь будет пытаться добавить документ на несуществующую полку*."
   ]
  }
 ],
 "metadata": {
  "kernelspec": {
   "display_name": "Python 3",
   "language": "python",
   "name": "python3"
  },
  "language_info": {
   "codemirror_mode": {
    "name": "ipython",
    "version": 3
   },
   "file_extension": ".py",
   "mimetype": "text/x-python",
   "name": "python",
   "nbconvert_exporter": "python",
   "pygments_lexer": "ipython3",
   "version": "3.7.6"
  }
 },
 "nbformat": 4,
 "nbformat_minor": 2
}
