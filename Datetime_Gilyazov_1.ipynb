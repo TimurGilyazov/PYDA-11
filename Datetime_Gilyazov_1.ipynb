{
 "cells": [
  {
   "cell_type": "markdown",
   "metadata": {},
   "source": [
    "Домашнее задание к лекции «Исключения и обработка ошибок»"
   ]
  },
  {
   "cell_type": "markdown",
   "metadata": {},
   "source": [
    "Задание 1\n",
    "Печатные газеты использовали свой формат дат для каждого выпуска. Для каждой газеты из списка напишите формат указанной даты для перевода в объект datetime:\n",
    "The Moscow Times - Wednesday, October 2, 2002\n",
    "The Guardian - Friday, 11.10.13\n",
    "Daily News - Thursday, 18 August 1977"
   ]
  },
  {
   "cell_type": "code",
   "execution_count": 10,
   "metadata": {},
   "outputs": [
    {
     "name": "stdout",
     "output_type": "stream",
     "text": [
      "2002-10-02 00:00:00\n",
      "2013-10-11 00:00:00\n",
      "1977-08-18 00:00:00\n"
     ]
    }
   ],
   "source": [
    "from datetime import datetime\n",
    "\n",
    "The_Moscow_Times_date = 'Wednesday, October 2, 2002'\n",
    "\n",
    "The_Guardian_date = 'Friday, 11.10.13'\n",
    "\n",
    "Daily_News_date = 'Thursday, 18 August 1977'\n",
    "\n",
    "Python_The_Moscow_Times_date = datetime.strptime(The_Moscow_Times_date, '%A, %B %d, %Y')\n",
    "print(Python_The_Moscow_Times_date)\n",
    "\n",
    "Python_The_Guardian_date = datetime.strptime(The_Guardian_date, '%A, %d.%m.%y')\n",
    "print(Python_The_Guardian_date)\n",
    "\n",
    "Python_Daily_News_date = datetime.strptime(Daily_News_date, '%A, %d %B %Y')\n",
    "print (Python_Daily_News_date)"
   ]
  },
  {
   "cell_type": "markdown",
   "metadata": {},
   "source": [
    "Задание 2\n",
    "Дан поток дат в формате YYYY-MM-DD, в которых встречаются некорректные значения:\n",
    "stream = [‘2018-04-02’, ‘2018-02-29’, ‘2018-19-02’]\n",
    "\n",
    "Напишите функцию, которая проверяет эти даты на корректность. Т. е. для каждой даты возвращает True (дата корректна) или False (некорректная дата)."
   ]
  },
  {
   "cell_type": "code",
   "execution_count": 14,
   "metadata": {},
   "outputs": [
    {
     "name": "stdout",
     "output_type": "stream",
     "text": [
      "2018-04-02 True\n",
      "2018-02-29 False\n",
      "2018-19-02 False\n"
     ]
    }
   ],
   "source": [
    "from datetime import datetime\n",
    "stream = ['2018-04-02', '2018-02-29', '2018-19-02']\n",
    "for item in stream:\n",
    "    try:\n",
    "        item_dt = datetime.strptime(item, '%Y-%m-%d')\n",
    "        print(item, 'True')\n",
    "    except:\n",
    "        print(item, 'False')"
   ]
  },
  {
   "cell_type": "markdown",
   "metadata": {},
   "source": [
    "Задание 3\n",
    "Напишите функцию date_range, которая возвращает список дат за период от start_date до end_date. Даты должны вводиться в формате YYYY-MM-DD. В случае неверного формата или при start_date > end_date должен возвращаться пустой список."
   ]
  },
  {
   "cell_type": "code",
   "execution_count": 18,
   "metadata": {},
   "outputs": [
    {
     "name": "stdout",
     "output_type": "stream",
     "text": [
      "Ввеедите дату начала мероприятия в формате YYYY-MM-DD: 2020-05-09\n",
      "Ввеедите дату окончания мероприятия в формате YYYY-MM-DD: 2020-04-09\n",
      "Ошибка: дата окончания мероприятия раньше даты начала мероприятия\n"
     ]
    }
   ],
   "source": [
    "from datetime import datetime\n",
    "from datetime import timedelta\n",
    "\n",
    "def date_range(start_date, end_date):\n",
    "    try:\n",
    "        start_date_dt = datetime.strptime(start_date, '%Y-%m-%d')\n",
    "        end_date_dt = datetime.strptime(end_date, '%Y-%m-%d')\n",
    "        if end_date_dt >= start_date_dt:\n",
    "            x_dt = start_date_dt\n",
    "            while x_dt <= end_date_dt:\n",
    "                print(x_dt.strftime('%Y-%m-%d'))\n",
    "                x_dt += timedelta(days=1)\n",
    "        else:\n",
    "            print('Ошибка: дата окончания мероприятия раньше даты начала мероприятия')\n",
    "    except:\n",
    "        print('Некорректный формат')\n",
    "        \n",
    "start_date  = input('Ввеедите дату начала мероприятия в формате YYYY-MM-DD: ')\n",
    "end_date = input('Ввеедите дату окончания мероприятия в формате YYYY-MM-DD: ')\n",
    "date_range(start_date, end_date)"
   ]
  }
 ],
 "metadata": {
  "kernelspec": {
   "display_name": "Python 3",
   "language": "python",
   "name": "python3"
  },
  "language_info": {
   "codemirror_mode": {
    "name": "ipython",
    "version": 3
   },
   "file_extension": ".py",
   "mimetype": "text/x-python",
   "name": "python",
   "nbconvert_exporter": "python",
   "pygments_lexer": "ipython3",
   "version": "3.7.6"
  }
 },
 "nbformat": 4,
 "nbformat_minor": 4
}
